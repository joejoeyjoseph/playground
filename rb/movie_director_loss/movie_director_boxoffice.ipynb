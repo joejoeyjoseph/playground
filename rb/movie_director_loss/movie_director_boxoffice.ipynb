{
 "cells": [
  {
   "cell_type": "markdown",
   "metadata": {},
   "source": [
    "## How much money can a director lose before they disappear in the industry?"
   ]
  },
  {
   "cell_type": "markdown",
   "metadata": {},
   "source": [
    "### How many box office bombs can an established director endure?"
   ]
  },
  {
   "cell_type": "code",
   "execution_count": 142,
   "metadata": {},
   "outputs": [],
   "source": [
    "# 20200726 JLCY\n",
    "\n",
    "import pandas as pd\n",
    "import numpy as np\n",
    "import math"
   ]
  },
  {
   "cell_type": "code",
   "execution_count": 143,
   "metadata": {},
   "outputs": [
    {
     "data": {
      "text/plain": [
       "50"
      ]
     },
     "execution_count": 143,
     "metadata": {},
     "output_type": "execute_result"
    }
   ],
   "source": [
    "xl = pd.ExcelFile('directors_data.xlsx')\n",
    "len(xl.sheet_names)"
   ]
  },
  {
   "cell_type": "code",
   "execution_count": 144,
   "metadata": {},
   "outputs": [
    {
     "data": {
      "text/plain": [
       "'J.J. Abrams'"
      ]
     },
     "execution_count": 144,
     "metadata": {},
     "output_type": "execute_result"
    }
   ],
   "source": [
    "xl.sheet_names[0]"
   ]
  },
  {
   "cell_type": "code",
   "execution_count": 145,
   "metadata": {},
   "outputs": [],
   "source": [
    "xl_file = pd.read_excel('directors_data.xlsx', sheet_name=xl.sheet_names[0])\n",
    "\n",
    "# combine 1st 2 rows as column names\n",
    "combine_col = []\n",
    "\n",
    "for ind, col in enumerate(xl_file.columns): \n",
    "    \n",
    "    if isinstance(xl_file.iloc[0, ind], str): \n",
    "        combine_col.append(col + ' ' + xl_file.iloc[0, ind])\n",
    "    else: \n",
    "        combine_col.append(col)\n",
    "        \n",
    "combine_col = ['Opening Theaters' if i == 'Opening.1 Theaters' else i for i in combine_col]\n",
    "\n",
    "xl_file.columns = combine_col\n",
    "\n",
    "df = xl_file.iloc[1:-3] # drop 1st row and last 3 summary rows\n",
    "df.reset_index(inplace=True)\n",
    "df = df.iloc[:, 1:] # drop 1st duplicating column\n",
    "\n",
    "# populate data for multiple roles in the same movie\n",
    "nan_col = [col for col in df.columns if col not in ['Role']]\n",
    "\n",
    "for i in df.index: \n",
    "    \n",
    "    if type(df['Title'][i]) is float: \n",
    "\n",
    "        if math.isnan(df['Title'][i]) and isinstance(df['Role'][i], str): \n",
    "            \n",
    "            for col in nan_col: \n",
    "                df[col][i] = df[col][i-1] # set data to the row above"
   ]
  },
  {
   "cell_type": "code",
   "execution_count": 146,
   "metadata": {},
   "outputs": [
    {
     "data": {
      "text/html": [
       "<div>\n",
       "<style scoped>\n",
       "    .dataframe tbody tr th:only-of-type {\n",
       "        vertical-align: middle;\n",
       "    }\n",
       "\n",
       "    .dataframe tbody tr th {\n",
       "        vertical-align: top;\n",
       "    }\n",
       "\n",
       "    .dataframe thead th {\n",
       "        text-align: right;\n",
       "    }\n",
       "</style>\n",
       "<table border=\"1\" class=\"dataframe\">\n",
       "  <thead>\n",
       "    <tr style=\"text-align: right;\">\n",
       "      <th></th>\n",
       "      <th>Release Date</th>\n",
       "      <th>Title</th>\n",
       "      <th>Role</th>\n",
       "      <th>Distributor</th>\n",
       "      <th>Genre</th>\n",
       "      <th>Production Budget</th>\n",
       "      <th>Opening Weekend</th>\n",
       "      <th>Opening Theaters</th>\n",
       "      <th>Maximum Theaters</th>\n",
       "      <th>Theatrical Engagements</th>\n",
       "      <th>Domestic Box Office</th>\n",
       "      <th>International Box Office</th>\n",
       "      <th>Worldwide Box Office</th>\n",
       "    </tr>\n",
       "  </thead>\n",
       "  <tbody>\n",
       "    <tr>\n",
       "      <th>0</th>\n",
       "      <td>2021-06-04 00:00:00</td>\n",
       "      <td>Micronauts</td>\n",
       "      <td>Producer</td>\n",
       "      <td>Paramount Pictures</td>\n",
       "      <td>Adventure</td>\n",
       "      <td>NaN</td>\n",
       "      <td>NaN</td>\n",
       "      <td>NaN</td>\n",
       "      <td>NaN</td>\n",
       "      <td>NaN</td>\n",
       "      <td>NaN</td>\n",
       "      <td>NaN</td>\n",
       "      <td>NaN</td>\n",
       "    </tr>\n",
       "    <tr>\n",
       "      <th>1</th>\n",
       "      <td>2019-12-20 00:00:00</td>\n",
       "      <td>Star Wars: The Rise of Skyw…</td>\n",
       "      <td>Director</td>\n",
       "      <td>Walt Disney</td>\n",
       "      <td>Adventure</td>\n",
       "      <td>275000000</td>\n",
       "      <td>177383864</td>\n",
       "      <td>4406</td>\n",
       "      <td>4406</td>\n",
       "      <td>29704</td>\n",
       "      <td>515202542</td>\n",
       "      <td>558267058</td>\n",
       "      <td>1073469600</td>\n",
       "    </tr>\n",
       "    <tr>\n",
       "      <th>2</th>\n",
       "      <td>2019-12-20 00:00:00</td>\n",
       "      <td>Star Wars: The Rise of Skyw…</td>\n",
       "      <td>Screenwriter</td>\n",
       "      <td>Walt Disney</td>\n",
       "      <td>Adventure</td>\n",
       "      <td>275000000</td>\n",
       "      <td>177383864</td>\n",
       "      <td>4406</td>\n",
       "      <td>4406</td>\n",
       "      <td>29704</td>\n",
       "      <td>515202542</td>\n",
       "      <td>558267058</td>\n",
       "      <td>1073469600</td>\n",
       "    </tr>\n",
       "    <tr>\n",
       "      <th>3</th>\n",
       "      <td>2019-12-20 00:00:00</td>\n",
       "      <td>Star Wars: The Rise of Skyw…</td>\n",
       "      <td>Producer</td>\n",
       "      <td>Walt Disney</td>\n",
       "      <td>Adventure</td>\n",
       "      <td>275000000</td>\n",
       "      <td>177383864</td>\n",
       "      <td>4406</td>\n",
       "      <td>4406</td>\n",
       "      <td>29704</td>\n",
       "      <td>515202542</td>\n",
       "      <td>558267058</td>\n",
       "      <td>1073469600</td>\n",
       "    </tr>\n",
       "    <tr>\n",
       "      <th>4</th>\n",
       "      <td>2018-11-09 00:00:00</td>\n",
       "      <td>Overlord</td>\n",
       "      <td>Producer</td>\n",
       "      <td>Paramount Pictures</td>\n",
       "      <td>Action</td>\n",
       "      <td>38000000</td>\n",
       "      <td>10202108</td>\n",
       "      <td>2859</td>\n",
       "      <td>2859</td>\n",
       "      <td>8038</td>\n",
       "      <td>21704844</td>\n",
       "      <td>17473345</td>\n",
       "      <td>39178189</td>\n",
       "    </tr>\n",
       "  </tbody>\n",
       "</table>\n",
       "</div>"
      ],
      "text/plain": [
       "          Release Date                         Title          Role  \\\n",
       "0  2021-06-04 00:00:00                    Micronauts      Producer   \n",
       "1  2019-12-20 00:00:00  Star Wars: The Rise of Skyw…      Director   \n",
       "2  2019-12-20 00:00:00  Star Wars: The Rise of Skyw…  Screenwriter   \n",
       "3  2019-12-20 00:00:00  Star Wars: The Rise of Skyw…      Producer   \n",
       "4  2018-11-09 00:00:00                      Overlord      Producer   \n",
       "\n",
       "          Distributor      Genre Production Budget Opening Weekend  \\\n",
       "0  Paramount Pictures  Adventure               NaN             NaN   \n",
       "1         Walt Disney  Adventure         275000000       177383864   \n",
       "2         Walt Disney  Adventure         275000000       177383864   \n",
       "3         Walt Disney  Adventure         275000000       177383864   \n",
       "4  Paramount Pictures     Action          38000000        10202108   \n",
       "\n",
       "  Opening Theaters Maximum Theaters Theatrical Engagements  \\\n",
       "0              NaN              NaN                    NaN   \n",
       "1             4406             4406                  29704   \n",
       "2             4406             4406                  29704   \n",
       "3             4406             4406                  29704   \n",
       "4             2859             2859                   8038   \n",
       "\n",
       "  Domestic Box Office International Box Office Worldwide Box Office  \n",
       "0                 NaN                      NaN                  NaN  \n",
       "1           515202542                558267058           1073469600  \n",
       "2           515202542                558267058           1073469600  \n",
       "3           515202542                558267058           1073469600  \n",
       "4            21704844                 17473345             39178189  "
      ]
     },
     "execution_count": 146,
     "metadata": {},
     "output_type": "execute_result"
    }
   ],
   "source": [
    "df.head()"
   ]
  },
  {
   "cell_type": "code",
   "execution_count": 97,
   "metadata": {},
   "outputs": [],
   "source": []
  },
  {
   "cell_type": "code",
   "execution_count": null,
   "metadata": {},
   "outputs": [],
   "source": []
  }
 ],
 "metadata": {
  "kernelspec": {
   "display_name": "Python (moneyball)",
   "language": "python",
   "name": "moneyball"
  },
  "language_info": {
   "codemirror_mode": {
    "name": "ipython",
    "version": 3
   },
   "file_extension": ".py",
   "mimetype": "text/x-python",
   "name": "python",
   "nbconvert_exporter": "python",
   "pygments_lexer": "ipython3",
   "version": "3.8.2"
  },
  "toc": {
   "base_numbering": 1,
   "nav_menu": {},
   "number_sections": true,
   "sideBar": true,
   "skip_h1_title": false,
   "title_cell": "Table of Contents",
   "title_sidebar": "Contents",
   "toc_cell": false,
   "toc_position": {},
   "toc_section_display": true,
   "toc_window_display": false
  }
 },
 "nbformat": 4,
 "nbformat_minor": 2
}
