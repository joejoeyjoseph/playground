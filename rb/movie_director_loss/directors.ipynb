{
 "cells": [
  {
   "cell_type": "markdown",
   "metadata": {},
   "source": [
    "## How much money can a director lose before they disappear in the industry?"
   ]
  },
  {
   "cell_type": "markdown",
   "metadata": {},
   "source": [
    "## How many box office bombs can an established director endure?"
   ]
  },
  {
   "cell_type": "code",
   "execution_count": 1,
   "metadata": {},
   "outputs": [],
   "source": [
    "# 20200726 JLCY\n",
    "\n",
    "import pandas as pd"
   ]
  },
  {
   "cell_type": "code",
   "execution_count": 7,
   "metadata": {},
   "outputs": [
    {
     "data": {
      "text/plain": [
       "50"
      ]
     },
     "execution_count": 7,
     "metadata": {},
     "output_type": "execute_result"
    }
   ],
   "source": [
    "xl = pd.ExcelFile('directors_data.xlsx')\n",
    "len(xl.sheet_names)"
   ]
  },
  {
   "cell_type": "code",
   "execution_count": 10,
   "metadata": {},
   "outputs": [
    {
     "data": {
      "text/plain": [
       "['J.J. Abrams',\n",
       " 'Tom Hooper',\n",
       " 'Steven Spielberg',\n",
       " 'Joe Russo',\n",
       " 'Joss Whedon',\n",
       " 'Jon Favreau',\n",
       " 'Ron Howard',\n",
       " 'Martin Scorsese',\n",
       " 'Michael Bay',\n",
       " 'Ben Affleck',\n",
       " 'M. Night Shyamalan',\n",
       " 'Timur Bekmambetov',\n",
       " 'Raja Gosnell',\n",
       " 'Marcus Nispel',\n",
       " 'Frank Coraci',\n",
       " 'Denis Villeneuve',\n",
       " 'Stephen Gaghan',\n",
       " 'Ang Lee',\n",
       " 'Ava Duvernay',\n",
       " 'Woody Allen',\n",
       " 'Tim Burton',\n",
       " 'Uwe Boll',\n",
       " 'Peter Berg',\n",
       " 'Peter Jackson',\n",
       " 'Garry Marshall',\n",
       " 'Brian Robbins',\n",
       " 'Roger Kumble',\n",
       " 'Peter Hyams',\n",
       " 'Renny Harlin',\n",
       " 'Dennie Gordon',\n",
       " 'Mark Steven Johnson',\n",
       " 'Tom Shadyac',\n",
       " 'Peter Chelsom',\n",
       " 'Jonathan Liebesman',\n",
       " 'Ridley Scott',\n",
       " 'George Lucas',\n",
       " 'David Lynch',\n",
       " 'Quentin Tarantino',\n",
       " 'James Cameron',\n",
       " 'Kevin Costner',\n",
       " 'Edgar Rice Burroughs',\n",
       " 'Lana Wachowski',\n",
       " 'Steven Brill',\n",
       " 'Dominic Sena',\n",
       " 'Dennis Dugan',\n",
       " 'John Whitesell',\n",
       " 'Roland Joffe',\n",
       " 'Brian Levant',\n",
       " 'Walt Becker',\n",
       " 'Aaron Seltzer']"
      ]
     },
     "execution_count": 10,
     "metadata": {},
     "output_type": "execute_result"
    }
   ],
   "source": [
    "xl.sheet_names"
   ]
  },
  {
   "cell_type": "code",
   "execution_count": null,
   "metadata": {},
   "outputs": [],
   "source": [
    "xl_file = pd.read_excel('directors_data.xlsx')"
   ]
  },
  {
   "cell_type": "code",
   "execution_count": null,
   "metadata": {},
   "outputs": [],
   "source": []
  }
 ],
 "metadata": {
  "kernelspec": {
   "display_name": "Python (moneyball)",
   "language": "python",
   "name": "moneyball"
  },
  "language_info": {
   "codemirror_mode": {
    "name": "ipython",
    "version": 3
   },
   "file_extension": ".py",
   "mimetype": "text/x-python",
   "name": "python",
   "nbconvert_exporter": "python",
   "pygments_lexer": "ipython3",
   "version": "3.8.2"
  },
  "toc": {
   "base_numbering": 1,
   "nav_menu": {},
   "number_sections": true,
   "sideBar": true,
   "skip_h1_title": false,
   "title_cell": "Table of Contents",
   "title_sidebar": "Contents",
   "toc_cell": false,
   "toc_position": {},
   "toc_section_display": true,
   "toc_window_display": false
  }
 },
 "nbformat": 4,
 "nbformat_minor": 2
}
