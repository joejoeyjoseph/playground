{
 "cells": [
  {
   "cell_type": "code",
   "execution_count": 28,
   "metadata": {},
   "outputs": [],
   "source": [
    "# decorators is for calling inner functions\n",
    "\n",
    "# https://realpython.com/primer-on-python-decorators/\n",
    "# https://www.programiz.com/python-programming/decorator\n",
    "# https://stackoverflow.com/questions/739654/how-to-make-a-chain-of-function-decorators"
   ]
  },
  {
   "cell_type": "raw",
   "metadata": {},
   "source": [
    "Run function w/ @ first, then run following functions"
   ]
  },
  {
   "cell_type": "code",
   "execution_count": null,
   "metadata": {},
   "outputs": [],
   "source": []
  },
  {
   "cell_type": "code",
   "execution_count": 14,
   "metadata": {},
   "outputs": [],
   "source": [
    "def make_pretty(func):\n",
    "    def inner():\n",
    "        print(\"I got decorated\")\n",
    "        func()\n",
    "    return inner\n",
    "\n",
    "def ordinary():\n",
    "    print(\"I am ordinary\")"
   ]
  },
  {
   "cell_type": "code",
   "execution_count": 15,
   "metadata": {},
   "outputs": [
    {
     "name": "stdout",
     "output_type": "stream",
     "text": [
      "I am ordinary\n"
     ]
    }
   ],
   "source": [
    "ordinary()"
   ]
  },
  {
   "cell_type": "code",
   "execution_count": 16,
   "metadata": {},
   "outputs": [
    {
     "name": "stdout",
     "output_type": "stream",
     "text": [
      "I got decorated\n",
      "I am ordinary\n"
     ]
    }
   ],
   "source": [
    "make_pretty(ordinary)()"
   ]
  },
  {
   "cell_type": "code",
   "execution_count": null,
   "metadata": {},
   "outputs": [],
   "source": []
  },
  {
   "cell_type": "code",
   "execution_count": 60,
   "metadata": {},
   "outputs": [],
   "source": [
    "def make_pretty(func):\n",
    "    \n",
    "    def inner():\n",
    "        print(\"I got decorated\")\n",
    "        func()\n",
    "    return inner\n",
    "\n",
    "    def inner2():\n",
    "        print('inner 2')\n",
    "        func()\n",
    "    return inner2\n",
    "\n",
    "@make_pretty # call decorator, run inner function, then run following function\n",
    "def ordinary():\n",
    "    print(\"I am ordinary\")"
   ]
  },
  {
   "cell_type": "code",
   "execution_count": 61,
   "metadata": {},
   "outputs": [
    {
     "name": "stdout",
     "output_type": "stream",
     "text": [
      "inner 2\n",
      "I am ordinary\n"
     ]
    }
   ],
   "source": [
    "ordinary()"
   ]
  },
  {
   "cell_type": "code",
   "execution_count": null,
   "metadata": {},
   "outputs": [],
   "source": []
  },
  {
   "cell_type": "code",
   "execution_count": null,
   "metadata": {},
   "outputs": [],
   "source": []
  },
  {
   "cell_type": "code",
   "execution_count": 49,
   "metadata": {},
   "outputs": [],
   "source": [
    "def star(func):\n",
    "    def inner(*args, **kwargs):\n",
    "        print(\"*\" * 30)\n",
    "        func(*args, **kwargs)\n",
    "        print(\"*\" * 30)\n",
    "    return inner\n",
    "\n",
    "def percent(func):\n",
    "    def inner(*args, **kwargs):\n",
    "        print(\"%\" * 30)\n",
    "        func(*args, **kwargs)\n",
    "        print(\"%\" * 30)\n",
    "    return inner\n",
    "\n",
    "@star\n",
    "@percent\n",
    "def printer(msg):\n",
    "    print(msg)\n",
    "    \n",
    "def printer2(msg):\n",
    "    print(msg)"
   ]
  },
  {
   "cell_type": "code",
   "execution_count": 46,
   "metadata": {},
   "outputs": [
    {
     "name": "stdout",
     "output_type": "stream",
     "text": [
      "******************************\n",
      "%%%%%%%%%%%%%%%%%%%%%%%%%%%%%%\n",
      "Hello\n",
      "%%%%%%%%%%%%%%%%%%%%%%%%%%%%%%\n",
      "******************************\n"
     ]
    }
   ],
   "source": [
    "printer(\"Hello\")"
   ]
  },
  {
   "cell_type": "code",
   "execution_count": 50,
   "metadata": {},
   "outputs": [
    {
     "name": "stdout",
     "output_type": "stream",
     "text": [
      "hi\n"
     ]
    }
   ],
   "source": [
    "printer2 = star(percent(printer2('hi')))"
   ]
  },
  {
   "cell_type": "code",
   "execution_count": 53,
   "metadata": {},
   "outputs": [
    {
     "data": {
      "text/plain": [
       "<function __main__.star.<locals>.inner(*args, **kwargs)>"
      ]
     },
     "execution_count": 53,
     "metadata": {},
     "output_type": "execute_result"
    }
   ],
   "source": [
    "printer2"
   ]
  },
  {
   "cell_type": "code",
   "execution_count": null,
   "metadata": {},
   "outputs": [],
   "source": []
  },
  {
   "cell_type": "code",
   "execution_count": null,
   "metadata": {},
   "outputs": [],
   "source": []
  },
  {
   "cell_type": "code",
   "execution_count": null,
   "metadata": {},
   "outputs": [],
   "source": []
  },
  {
   "cell_type": "code",
   "execution_count": 65,
   "metadata": {},
   "outputs": [
    {
     "name": "stdout",
     "output_type": "stream",
     "text": [
      "Yes!\n",
      "Yes!\n",
      "name 'shout' is not defined\n",
      "Yes!\n"
     ]
    }
   ],
   "source": [
    "def shout(word=\"yes\"):\n",
    "    return word.capitalize()+\"!\"\n",
    "\n",
    "print(shout())\n",
    "# outputs : 'Yes!'\n",
    "\n",
    "# As an object, you can assign the function to a variable like any other object \n",
    "scream = shout\n",
    "\n",
    "# Notice we don't use parentheses: we are not calling the function,\n",
    "# we are putting the function \"shout\" into the variable \"scream\".\n",
    "# It means you can then call \"shout\" from \"scream\":\n",
    "\n",
    "print(scream())\n",
    "# outputs : 'Yes!'\n",
    "\n",
    "# More than that, it means you can remove the old name 'shout',\n",
    "# and the function will still be accessible from 'scream'\n",
    "\n",
    "del shout\n",
    "try:\n",
    "    print(shout())\n",
    "except NameError as e:\n",
    "    print(e)\n",
    "    #outputs: \"name 'shout' is not defined\"\n",
    "\n",
    "print(scream())\n",
    "# outputs: 'Yes!'"
   ]
  },
  {
   "cell_type": "code",
   "execution_count": 66,
   "metadata": {},
   "outputs": [
    {
     "data": {
      "text/plain": [
       "<function __main__.shout(word='yes')>"
      ]
     },
     "execution_count": 66,
     "metadata": {},
     "output_type": "execute_result"
    }
   ],
   "source": [
    "scream"
   ]
  },
  {
   "cell_type": "code",
   "execution_count": 67,
   "metadata": {},
   "outputs": [
    {
     "name": "stdout",
     "output_type": "stream",
     "text": [
      "<function getTalk.<locals>.shout at 0x10cd61940>\n",
      "Yes!\n",
      "yes...\n"
     ]
    }
   ],
   "source": [
    "def getTalk(kind=\"shout\"):\n",
    "\n",
    "    # We define functions on the fly\n",
    "    def shout(word=\"yes\"):\n",
    "        return word.capitalize()+\"!\"\n",
    "\n",
    "    def whisper(word=\"yes\") :\n",
    "        return word.lower()+\"...\";\n",
    "\n",
    "    # Then we return one of them\n",
    "    if kind == \"shout\":\n",
    "        # We don't use \"()\", we are not calling the function,\n",
    "        # we are returning the function object\n",
    "        return shout  \n",
    "    else:\n",
    "        return whisper\n",
    "\n",
    "# How do you use this strange beast?\n",
    "\n",
    "# Get the function and assign it to a variable\n",
    "talk = getTalk()      \n",
    "\n",
    "# You can see that \"talk\" is here a function object:\n",
    "print(talk)\n",
    "#outputs : <function shout at 0xb7ea817c>\n",
    "\n",
    "# The object is the one returned by the function:\n",
    "print(talk())\n",
    "#outputs : Yes!\n",
    "\n",
    "# And you can even use it directly if you feel wild:\n",
    "print(getTalk(\"whisper\")())\n",
    "#outputs : yes..."
   ]
  },
  {
   "cell_type": "code",
   "execution_count": 68,
   "metadata": {},
   "outputs": [
    {
     "name": "stdout",
     "output_type": "stream",
     "text": [
      "I do something before then I call the function you gave me\n",
      "Yes!\n"
     ]
    }
   ],
   "source": [
    "def doSomethingBefore(func): \n",
    "    print(\"I do something before then I call the function you gave me\")\n",
    "    print(func())\n",
    "\n",
    "doSomethingBefore(scream)\n",
    "#outputs: \n",
    "#I do something before then I call the function you gave me\n",
    "#Yes!"
   ]
  },
  {
   "cell_type": "code",
   "execution_count": null,
   "metadata": {},
   "outputs": [],
   "source": []
  },
  {
   "cell_type": "code",
   "execution_count": 84,
   "metadata": {},
   "outputs": [
    {
     "name": "stdout",
     "output_type": "stream",
     "text": [
      "I am 26, what did you think?\n"
     ]
    }
   ],
   "source": [
    "def method_friendly_decorator(method_to_decorate):\n",
    "    def wrapper(self, lie):\n",
    "        lie = lie - 3 # very friendly, decrease age even more :-)\n",
    "        return method_to_decorate(self, lie)\n",
    "    return wrapper\n",
    "\n",
    "class Lucy(object):\n",
    "\n",
    "    def __init__(self):\n",
    "        self.age = 32\n",
    "\n",
    "    @method_friendly_decorator\n",
    "    def sayYourAge(self, lie):\n",
    "        print(\"I am {0}, what did you think?\".format(self.age + lie))\n",
    "\n",
    "l = Lucy()\n",
    "l.sayYourAge(-3)\n",
    "#outputs: I am 26, what did you think?"
   ]
  },
  {
   "cell_type": "code",
   "execution_count": null,
   "metadata": {},
   "outputs": [],
   "source": []
  },
  {
   "cell_type": "code",
   "execution_count": 86,
   "metadata": {},
   "outputs": [
    {
     "name": "stdout",
     "output_type": "stream",
     "text": [
      "Do I have args?:\n",
      "()\n",
      "{}\n",
      "Python is cool, no argument here.\n",
      "Do I have args?:\n",
      "(1, 2, 3)\n",
      "{}\n",
      "1 2 3\n",
      "Do I have args?:\n",
      "('Bill', 'Linus', 'Steve')\n",
      "{'platypus': 'Indeed!'}\n",
      "Do Bill, Linus and Steve like platypus? Indeed!\n"
     ]
    }
   ],
   "source": [
    "def a_decorator_passing_arbitrary_arguments(function_to_decorate):\n",
    "    # The wrapper accepts any arguments\n",
    "    def a_wrapper_accepting_arbitrary_arguments(*args, **kwargs):\n",
    "        print(\"Do I have args?:\")\n",
    "        print(args)\n",
    "        print(kwargs)\n",
    "        # Then you unpack the arguments, here *args, **kwargs\n",
    "        # If you are not familiar with unpacking, check:\n",
    "        # http://www.saltycrane.com/blog/2008/01/how-to-use-args-and-kwargs-in-python/\n",
    "        function_to_decorate(*args, **kwargs)\n",
    "    return a_wrapper_accepting_arbitrary_arguments\n",
    "\n",
    "@a_decorator_passing_arbitrary_arguments\n",
    "def function_with_no_argument():\n",
    "    print(\"Python is cool, no argument here.\")\n",
    "\n",
    "function_with_no_argument()\n",
    "#outputs\n",
    "#Do I have args?:\n",
    "#()\n",
    "#{}\n",
    "#Python is cool, no argument here.\n",
    "\n",
    "@a_decorator_passing_arbitrary_arguments\n",
    "def function_with_arguments(a, b, c):\n",
    "    print(a, b, c)\n",
    "\n",
    "function_with_arguments(1,2,3)\n",
    "#outputs\n",
    "#Do I have args?:\n",
    "#(1, 2, 3)\n",
    "#{}\n",
    "#1 2 3 \n",
    "\n",
    "@a_decorator_passing_arbitrary_arguments\n",
    "def function_with_named_arguments(a, b, c, platypus=\"Why not ?\"):\n",
    "    print(\"Do {0}, {1} and {2} like platypus? {3}\".format(a, b, c, platypus))\n",
    "\n",
    "function_with_named_arguments(\"Bill\", \"Linus\", \"Steve\", platypus=\"Indeed!\")\n",
    "#outputs\n",
    "#Do I have args ? :\n",
    "#('Bill', 'Linus', 'Steve')\n",
    "#{'platypus': 'Indeed!'}\n",
    "#Do Bill, Linus and Steve like platypus? Indeed!"
   ]
  },
  {
   "cell_type": "code",
   "execution_count": 73,
   "metadata": {},
   "outputs": [
    {
     "name": "stdout",
     "output_type": "stream",
     "text": [
      "Do I have args?:\n",
      "('Bill', 'Linus', 'Steve')\n",
      "{'platypus': True}\n",
      "Do Bill, Linus and Steve like platypus? True\n"
     ]
    }
   ],
   "source": [
    "function_with_named_arguments(\"Bill\", \"Linus\", \"Steve\", platypus=True)"
   ]
  },
  {
   "cell_type": "code",
   "execution_count": 78,
   "metadata": {},
   "outputs": [],
   "source": [
    "@a_decorator_passing_arbitrary_arguments\n",
    "def function_with_named_arguments2(a, b, c, platypus):\n",
    "    print(\"Do {0}, {1} and {2} like platypus? {3}\".format(a, b, c, platypus))"
   ]
  },
  {
   "cell_type": "code",
   "execution_count": 83,
   "metadata": {},
   "outputs": [
    {
     "name": "stdout",
     "output_type": "stream",
     "text": [
      "Do I have args?:\n",
      "('Bill', 'Linus', 'a')\n",
      "{'platypus': 'hi'}\n",
      "Do Bill, Linus and a like platypus? hi\n"
     ]
    }
   ],
   "source": [
    "function_with_named_arguments(\"Bill\", \"Linus\", 'a', platypus='hi')"
   ]
  },
  {
   "cell_type": "code",
   "execution_count": null,
   "metadata": {},
   "outputs": [],
   "source": []
  },
  {
   "cell_type": "code",
   "execution_count": 92,
   "metadata": {},
   "outputs": [
    {
     "name": "stdout",
     "output_type": "stream",
     "text": [
      "Do I have args?:\n",
      "(<__main__.Mary object at 0x10f4ea160>,)\n",
      "{}\n",
      "I am 28, what did you think?\n"
     ]
    }
   ],
   "source": [
    "class Mary(object):\n",
    "\n",
    "    def __init__(self):\n",
    "        self.age = 31\n",
    "\n",
    "    @a_decorator_passing_arbitrary_arguments\n",
    "    def sayYourAge(self, lie=-3): # You can now add a default value\n",
    "        print(\"I am {0}, what did you think?\".format(self.age + lie))\n",
    "\n",
    "m = Mary()\n",
    "m.sayYourAge()\n",
    "#outputs\n",
    "# Do I have args?:\n",
    "#(<__main__.Mary object at 0xb7d303ac>,)\n",
    "#{}\n",
    "#I am 28, what did you think?"
   ]
  },
  {
   "cell_type": "code",
   "execution_count": 93,
   "metadata": {},
   "outputs": [
    {
     "name": "stdout",
     "output_type": "stream",
     "text": [
      "Do I have args?:\n",
      "(<__main__.Mary object at 0x10f4ea160>, 10)\n",
      "{}\n",
      "I am 41, what did you think?\n"
     ]
    }
   ],
   "source": [
    "m.sayYourAge(10)"
   ]
  },
  {
   "cell_type": "code",
   "execution_count": 96,
   "metadata": {},
   "outputs": [
    {
     "name": "stdout",
     "output_type": "stream",
     "text": [
      "Do I have args?:\n",
      "(<__main__.Mary object at 0x10f4ea160>,)\n",
      "{'lie': 10}\n",
      "I am 41, what did you think?\n"
     ]
    }
   ],
   "source": [
    "m.sayYourAge(lie=10)"
   ]
  },
  {
   "cell_type": "code",
   "execution_count": null,
   "metadata": {},
   "outputs": [],
   "source": []
  },
  {
   "cell_type": "code",
   "execution_count": 8,
   "metadata": {},
   "outputs": [
    {
     "name": "stdout",
     "output_type": "stream",
     "text": [
      "I make decorators! I am executed only once: when you make me create a decorator.\n",
      "As a decorator maker, I return a decorator\n"
     ]
    }
   ],
   "source": [
    "def decorator_maker():\n",
    "\n",
    "    print(\"I make decorators! I am executed only once: \"\n",
    "          \"when you make me create a decorator.\")\n",
    "\n",
    "    def my_decorator(func):\n",
    "\n",
    "        print(\"I am a decorator! I am executed only when you decorate a function.\")\n",
    "\n",
    "        def wrapped():\n",
    "            print(\"I am the wrapper around the decorated function. \"\n",
    "                  \"I am called when you call the decorated function. \"\n",
    "                  \"As the wrapper, I return the RESULT of the decorated function.\")\n",
    "            print('RUNNING FUNCTION NOW ___')\n",
    "            return func()\n",
    "\n",
    "        print(\"As the decorator, I return the wrapped function.\")\n",
    "        return wrapped\n",
    "\n",
    "    print(\"As a decorator maker, I return a decorator\")\n",
    "    return my_decorator # returns the inner function...!\n",
    "\n",
    "# Let’s create a decorator. It’s just a new function after all.\n",
    "new_decorator = decorator_maker()       \n",
    "#outputs:\n",
    "#I make decorators! I am executed only once: when you make me create a decorator.\n",
    "#As a decorator maker, I return a decorator\n",
    "\n",
    "# Then we decorate the function\n",
    "\n",
    "def decorated_function():\n",
    "    print(\"I am the decorated function.***\")"
   ]
  },
  {
   "cell_type": "code",
   "execution_count": 9,
   "metadata": {},
   "outputs": [
    {
     "name": "stdout",
     "output_type": "stream",
     "text": [
      "I make decorators! I am executed only once: when you make me create a decorator.\n",
      "As a decorator maker, I return a decorator\n",
      "I am a decorator! I am executed only when you decorate a function.\n",
      "As the decorator, I return the wrapped function.\n"
     ]
    },
    {
     "data": {
      "text/plain": [
       "<function __main__.decorator_maker.<locals>.my_decorator.<locals>.wrapped()>"
      ]
     },
     "execution_count": 9,
     "metadata": {},
     "output_type": "execute_result"
    }
   ],
   "source": [
    "decorator_maker()(decorated_function)"
   ]
  },
  {
   "cell_type": "code",
   "execution_count": 10,
   "metadata": {},
   "outputs": [
    {
     "name": "stdout",
     "output_type": "stream",
     "text": [
      "I make decorators! I am executed only once: when you make me create a decorator.\n",
      "As a decorator maker, I return a decorator\n",
      "I am a decorator! I am executed only when you decorate a function.\n",
      "As the decorator, I return the wrapped function.\n",
      "I am the wrapper around the decorated function. I am called when you call the decorated function. As the wrapper, I return the RESULT of the decorated function.\n",
      "RUNNING FUNCTION NOW ___\n",
      "I am the decorated function.***\n"
     ]
    }
   ],
   "source": [
    "decorator_maker()(decorated_function)()"
   ]
  },
  {
   "cell_type": "code",
   "execution_count": 11,
   "metadata": {},
   "outputs": [
    {
     "name": "stdout",
     "output_type": "stream",
     "text": [
      "I make decorators! I am executed only once: when you make me create a decorator.\n",
      "As a decorator maker, I return a decorator\n",
      "I am a decorator! I am executed only when you decorate a function.\n",
      "As the decorator, I return the wrapped function.\n"
     ]
    }
   ],
   "source": [
    "@decorator_maker()\n",
    "def decorated_function2():\n",
    "    print(\"I am the decorated function.22222\")"
   ]
  },
  {
   "cell_type": "code",
   "execution_count": 12,
   "metadata": {},
   "outputs": [
    {
     "name": "stdout",
     "output_type": "stream",
     "text": [
      "I am the wrapper around the decorated function. I am called when you call the decorated function. As the wrapper, I return the RESULT of the decorated function.\n",
      "RUNNING FUNCTION NOW ___\n",
      "I am the decorated function.22222\n"
     ]
    }
   ],
   "source": [
    "decorated_function2()"
   ]
  },
  {
   "cell_type": "code",
   "execution_count": null,
   "metadata": {},
   "outputs": [],
   "source": []
  },
  {
   "cell_type": "code",
   "execution_count": 7,
   "metadata": {},
   "outputs": [
    {
     "name": "stdout",
     "output_type": "stream",
     "text": [
      "I am a decorator! I am executed only when you decorate a function.\n",
      "As the decorator, I return the wrapped function.\n"
     ]
    }
   ],
   "source": [
    "decorated_function = new_decorator(decorated_function)\n",
    "#outputs:\n",
    "#I am a decorator! I am executed only when you decorate a function.\n",
    "#As the decorator, I return the wrapped function"
   ]
  },
  {
   "cell_type": "code",
   "execution_count": 9,
   "metadata": {},
   "outputs": [
    {
     "name": "stdout",
     "output_type": "stream",
     "text": [
      "I am the wrapper around the decorated function. I am called when you call the decorated function. As the wrapper, I return the RESULT of the decorated function.\n",
      "I am the decorated function.***\n"
     ]
    }
   ],
   "source": [
    "# Let’s call the function:\n",
    "decorated_function()\n",
    "#outputs:\n",
    "#I am the wrapper around the decorated function. I am called when you call the decorated function.\n",
    "#As the wrapper, I return the RESULT of the decorated function.\n",
    "#I am the decorated function."
   ]
  },
  {
   "cell_type": "code",
   "execution_count": null,
   "metadata": {},
   "outputs": [],
   "source": []
  },
  {
   "cell_type": "code",
   "execution_count": 22,
   "metadata": {},
   "outputs": [
    {
     "name": "stdout",
     "output_type": "stream",
     "text": [
      "I make decorators! And I accept arguments: Leonard, Sheldon\n",
      "I am the decorator. Somehow you passed me arguments: Leonard, Sheldon\n",
      "I am the wrapper around the decorated function.\n",
      "I can access all the variables\n",
      "\t- from the decorator: Rajesh Howard\n",
      "Then I can pass them to the decorated function\n",
      "I am the decorated function and only knows about my arguments: Rajesh Howard\n"
     ]
    }
   ],
   "source": [
    "def decorator_maker_with_arguments(*args, **kwargs):\n",
    "\n",
    "    print(\"I make decorators! And I accept arguments: {0}, {1}\".format(*args, **kwargs))\n",
    "\n",
    "    def my_decorator(func):\n",
    "        # The ability to pass arguments here is a gift from closures.\n",
    "        # If you are not comfortable with closures, you can assume it’s ok,\n",
    "        # or read: https://stackoverflow.com/questions/13857/can-you-explain-closures-as-they-relate-to-python\n",
    "        print(\"I am the decorator. Somehow you passed me arguments: {0}, {1}\".format(*args, **kwargs))\n",
    "\n",
    "        # Don't confuse decorator arguments and function arguments!\n",
    "        def wrapped(*args, **kwargs) :\n",
    "            print(\"I am the wrapper around the decorated function.\\n\"\n",
    "                  \"I can access all the variables\\n\"\n",
    "                  \"\\t- from the decorator: {0} {1}\\n\"\n",
    "                  #\"\\t- from the function call: {2} {3}\\n\"\n",
    "                  \"Then I can pass them to the decorated function\"\n",
    "                  .format(*args, **kwargs))\n",
    "            return func(*args, **kwargs)\n",
    "\n",
    "        return wrapped\n",
    "\n",
    "    return my_decorator\n",
    "\n",
    "@decorator_maker_with_arguments(\"Leonard\", \"Sheldon\")\n",
    "def decorated_function_with_arguments(*args, **kwargs):\n",
    "    print(\"I am the decorated function and only knows about my arguments: {0}\"\n",
    "           \" {1}\".format(*args, **kwargs))\n",
    "\n",
    "decorated_function_with_arguments(\"Rajesh\", \"Howard\")\n",
    "#outputs:\n",
    "#I make decorators! And I accept arguments: Leonard Sheldon\n",
    "#I am the decorator. Somehow you passed me arguments: Leonard Sheldon\n",
    "#I am the wrapper around the decorated function. \n",
    "#I can access all the variables \n",
    "#   - from the decorator: Leonard Sheldon \n",
    "#   - from the function call: Rajesh Howard \n",
    "#Then I can pass them to the decorated function\n",
    "#I am the decorated function and only knows about my arguments: Rajesh Howard"
   ]
  },
  {
   "cell_type": "code",
   "execution_count": null,
   "metadata": {},
   "outputs": [],
   "source": []
  },
  {
   "cell_type": "code",
   "execution_count": 36,
   "metadata": {},
   "outputs": [],
   "source": [
    "def decorator_with_args(decorator_to_enhance):\n",
    "    \"\"\" \n",
    "    This function is supposed to be used as a decorator.\n",
    "    It must decorate an other function, that is intended to be used as a decorator.\n",
    "    Take a cup of coffee.\n",
    "    It will allow any decorator to accept an arbitrary number of arguments,\n",
    "    saving you the headache to remember how to do that every time.\n",
    "    \"\"\"\n",
    "\n",
    "    print('running decorator_with_args') # only run this ONCE, when called by @\n",
    "    \n",
    "    # We use the same trick we did to pass arguments\n",
    "    def decorator_maker(*args, **kwargs):\n",
    "        \n",
    "        print('running decorator_maker')\n",
    "\n",
    "        # We create on the fly a decorator that accepts only a function\n",
    "        # but keeps the passed arguments from the maker.\n",
    "        def decorator_wrapper(func):\n",
    "            \n",
    "            print('running decorator_wrapper')\n",
    "\n",
    "            # We return the result of the original decorator, which, after all, \n",
    "            # IS JUST AN ORDINARY FUNCTION (which returns a function).\n",
    "            # Only pitfall: the decorator must have this specific signature or it won't work:\n",
    "            \n",
    "            return decorator_to_enhance(func, *args, **kwargs) # return the result of the original decorator\n",
    "\n",
    "        return decorator_wrapper\n",
    "\n",
    "    return decorator_maker"
   ]
  },
  {
   "cell_type": "code",
   "execution_count": 37,
   "metadata": {},
   "outputs": [
    {
     "name": "stdout",
     "output_type": "stream",
     "text": [
      "running decorator_with_args\n"
     ]
    }
   ],
   "source": [
    "# You create the function you will use as a decorator. And stick a decorator on it :-)\n",
    "# Don't forget, the signature is \"decorator(func, *args, **kwargs)\"\n",
    "@decorator_with_args \n",
    "def decorated_decorator(func, *args, **kwargs): \n",
    "    \n",
    "    print('running decorated_decorator')\n",
    "    \n",
    "    def wrapper(function_arg1, function_arg2):\n",
    "        \n",
    "        print('running wrapper')\n",
    "        \n",
    "        print(\"Decorated with {0} {1}\".format(args, kwargs))\n",
    "        \n",
    "        return func(function_arg1, function_arg2)\n",
    "    \n",
    "    return wrapper"
   ]
  },
  {
   "cell_type": "code",
   "execution_count": 38,
   "metadata": {},
   "outputs": [
    {
     "name": "stdout",
     "output_type": "stream",
     "text": [
      "running decorator_maker\n",
      "running decorator_wrapper\n",
      "running decorated_decorator\n"
     ]
    }
   ],
   "source": [
    "# Then you decorate the functions you wish with your brand new decorated decorator.\n",
    "\n",
    "@decorated_decorator(42, 404, 1024)\n",
    "def decorated_function(function_arg1, function_arg2):\n",
    "    \n",
    "    print('running decorated_function')\n",
    "    \n",
    "    print(\"Hello {0} {1}\".format(function_arg1, function_arg2))"
   ]
  },
  {
   "cell_type": "code",
   "execution_count": 39,
   "metadata": {},
   "outputs": [
    {
     "name": "stdout",
     "output_type": "stream",
     "text": [
      "running wrapper\n",
      "Decorated with (42, 404, 1024) {}\n",
      "running decorated_function\n",
      "Hello Universe and everything\n"
     ]
    }
   ],
   "source": [
    "decorated_function(\"Universe and\", \"everything\")\n",
    "#outputs:\n",
    "#Decorated with (42, 404, 1024) {}\n",
    "#Hello Universe and everything\n",
    "\n",
    "# Whoooot!"
   ]
  },
  {
   "cell_type": "code",
   "execution_count": null,
   "metadata": {},
   "outputs": [],
   "source": []
  },
  {
   "cell_type": "code",
   "execution_count": null,
   "metadata": {},
   "outputs": [],
   "source": []
  },
  {
   "cell_type": "code",
   "execution_count": 62,
   "metadata": {},
   "outputs": [
    {
     "name": "stdout",
     "output_type": "stream",
     "text": [
      "running repeat\n",
      "running decorator_repeat\n"
     ]
    }
   ],
   "source": [
    "def repeat(num_times): # take loop args\n",
    "    \n",
    "    print('running repeat')\n",
    "    \n",
    "    def decorator_repeat(func): # take function\n",
    "        \n",
    "        print('running decorator_repeat')\n",
    "        \n",
    "        #@functools.wraps(func)\n",
    "        \n",
    "#         def wrapper_repeat(*args, **kwargs):\n",
    "#             for _ in range(num_times):\n",
    "#                 value = func(*args, **kwargs)\n",
    "        \n",
    "        def wrapper_repeat(string): # take function args\n",
    "            \n",
    "            print('running wrapper_repeat')\n",
    "            \n",
    "            for _ in range(num_times): # use loop args\n",
    "                \n",
    "                value = func(string)\n",
    "                \n",
    "            return value\n",
    "        \n",
    "        return wrapper_repeat\n",
    "    \n",
    "    return decorator_repeat\n",
    "\n",
    "@repeat(num_times=4)\n",
    "def greet(name):\n",
    "    \n",
    "    print('running greet')\n",
    "    \n",
    "    print(f\"Hello {name}\")"
   ]
  },
  {
   "cell_type": "code",
   "execution_count": 63,
   "metadata": {},
   "outputs": [
    {
     "name": "stdout",
     "output_type": "stream",
     "text": [
      "running wrapper_repeat\n",
      "running greet\n",
      "Hello money\n",
      "running greet\n",
      "Hello money\n",
      "running greet\n",
      "Hello money\n",
      "running greet\n",
      "Hello money\n"
     ]
    }
   ],
   "source": [
    "greet('money')"
   ]
  },
  {
   "cell_type": "code",
   "execution_count": null,
   "metadata": {},
   "outputs": [],
   "source": []
  },
  {
   "cell_type": "code",
   "execution_count": 90,
   "metadata": {},
   "outputs": [
    {
     "name": "stdout",
     "output_type": "stream",
     "text": [
      "running repeatXX\n",
      "None\n",
      "none!!!\n",
      "running decorator_repeat\n",
      "running repeatXX\n",
      "None\n",
      "none!!!\n",
      "running decorator_repeat\n",
      "running repeatXX\n",
      "<function greetZZ at 0x11294e0d0>\n",
      "not none!!!\n",
      "running decorator_repeat\n"
     ]
    }
   ],
   "source": [
    "def repeatXX(_func=None, *, num_times=2):\n",
    "    print('running repeatXX')\n",
    "    def decorator_repeat(func):\n",
    "        print('running decorator_repeat')\n",
    "        def wrapper_repeat(*args, **kwargs):\n",
    "            print('running wrapper_repeat')\n",
    "            for _ in range(num_times):\n",
    "                value = func(*args, **kwargs)\n",
    "            return value\n",
    "        return wrapper_repeat\n",
    "\n",
    "    print(_func)\n",
    "    if _func is None:\n",
    "        print('none!!!')\n",
    "        return decorator_repeat\n",
    "    else:\n",
    "        print('not none!!!')\n",
    "        return decorator_repeat(_func) # Apply the decorator to the function immediately\n",
    "\n",
    "@repeatXX(num_times=5)\n",
    "def greetXX(name):   \n",
    "    print('running greetXX')\n",
    "    print(f\"Hello {name}\")\n",
    "    \n",
    "@repeatXX()\n",
    "def greetYY(name):   \n",
    "    print('running greetYY')\n",
    "    print(f\"Hello {name}\")\n",
    "    \n",
    "@repeatXX\n",
    "def greetZZ(name):   \n",
    "    print('running greetZZ')\n",
    "    print(f\"Hello {name}\")"
   ]
  },
  {
   "cell_type": "code",
   "execution_count": 84,
   "metadata": {},
   "outputs": [
    {
     "name": "stdout",
     "output_type": "stream",
     "text": [
      "running wrapper_repeat\n",
      "running greetXX\n",
      "Hello hi\n",
      "running greetXX\n",
      "Hello hi\n",
      "running greetXX\n",
      "Hello hi\n",
      "running greetXX\n",
      "Hello hi\n",
      "running greetXX\n",
      "Hello hi\n"
     ]
    }
   ],
   "source": [
    "greetXX('hi')"
   ]
  },
  {
   "cell_type": "code",
   "execution_count": 85,
   "metadata": {},
   "outputs": [
    {
     "name": "stdout",
     "output_type": "stream",
     "text": [
      "running wrapper_repeat\n",
      "running greetYY\n",
      "Hello 5\n",
      "running greetYY\n",
      "Hello 5\n"
     ]
    }
   ],
   "source": [
    "greetYY(5)"
   ]
  },
  {
   "cell_type": "code",
   "execution_count": 89,
   "metadata": {},
   "outputs": [
    {
     "name": "stdout",
     "output_type": "stream",
     "text": [
      "running wrapper_repeat\n",
      "running greetZZ\n",
      "Hello 7\n",
      "running greetZZ\n",
      "Hello 7\n"
     ]
    }
   ],
   "source": [
    "greetZZ(7)"
   ]
  },
  {
   "cell_type": "code",
   "execution_count": null,
   "metadata": {},
   "outputs": [],
   "source": []
  }
 ],
 "metadata": {
  "kernelspec": {
   "display_name": "Python (moneyball)",
   "language": "python",
   "name": "moneyball"
  },
  "language_info": {
   "codemirror_mode": {
    "name": "ipython",
    "version": 3
   },
   "file_extension": ".py",
   "mimetype": "text/x-python",
   "name": "python",
   "nbconvert_exporter": "python",
   "pygments_lexer": "ipython3",
   "version": "3.8.1"
  },
  "toc": {
   "base_numbering": 1,
   "nav_menu": {},
   "number_sections": true,
   "sideBar": true,
   "skip_h1_title": false,
   "title_cell": "Table of Contents",
   "title_sidebar": "Contents",
   "toc_cell": false,
   "toc_position": {},
   "toc_section_display": true,
   "toc_window_display": false
  }
 },
 "nbformat": 4,
 "nbformat_minor": 4
}
