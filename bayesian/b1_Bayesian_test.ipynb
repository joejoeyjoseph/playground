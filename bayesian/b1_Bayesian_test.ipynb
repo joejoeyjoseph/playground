{
 "cells": [
  {
   "cell_type": "markdown",
   "metadata": {},
   "source": [
    "# Bayesian probability of AAPL and Unemployment"
   ]
  },
  {
   "cell_type": "code",
   "execution_count": 1,
   "metadata": {},
   "outputs": [],
   "source": [
    "import pandas as pd\n",
    "import numpy as np"
   ]
  },
  {
   "cell_type": "code",
   "execution_count": 2,
   "metadata": {},
   "outputs": [
    {
     "data": {
      "text/html": [
       "<div>\n",
       "<style scoped>\n",
       "    .dataframe tbody tr th:only-of-type {\n",
       "        vertical-align: middle;\n",
       "    }\n",
       "\n",
       "    .dataframe tbody tr th {\n",
       "        vertical-align: top;\n",
       "    }\n",
       "\n",
       "    .dataframe thead th {\n",
       "        text-align: right;\n",
       "    }\n",
       "</style>\n",
       "<table border=\"1\" class=\"dataframe\">\n",
       "  <thead>\n",
       "    <tr style=\"text-align: right;\">\n",
       "      <th></th>\n",
       "      <th>Date</th>\n",
       "      <th>Close/Last</th>\n",
       "      <th>Volume</th>\n",
       "      <th>Open</th>\n",
       "      <th>High</th>\n",
       "      <th>Low</th>\n",
       "    </tr>\n",
       "  </thead>\n",
       "  <tbody>\n",
       "    <tr>\n",
       "      <th>0</th>\n",
       "      <td>3/31/20</td>\n",
       "      <td>$254.29</td>\n",
       "      <td>49250500</td>\n",
       "      <td>$255.60</td>\n",
       "      <td>$262.49</td>\n",
       "      <td>$252</td>\n",
       "    </tr>\n",
       "    <tr>\n",
       "      <th>1</th>\n",
       "      <td>3/30/20</td>\n",
       "      <td>$254.81</td>\n",
       "      <td>41994110</td>\n",
       "      <td>$250.74</td>\n",
       "      <td>$255.52</td>\n",
       "      <td>$249.40</td>\n",
       "    </tr>\n",
       "    <tr>\n",
       "      <th>2</th>\n",
       "      <td>3/27/20</td>\n",
       "      <td>$247.74</td>\n",
       "      <td>51054150</td>\n",
       "      <td>$252.75</td>\n",
       "      <td>$255.87</td>\n",
       "      <td>$247.05</td>\n",
       "    </tr>\n",
       "    <tr>\n",
       "      <th>3</th>\n",
       "      <td>3/26/20</td>\n",
       "      <td>$258.44</td>\n",
       "      <td>63140170</td>\n",
       "      <td>$246.52</td>\n",
       "      <td>$258.68</td>\n",
       "      <td>$246.36</td>\n",
       "    </tr>\n",
       "    <tr>\n",
       "      <th>4</th>\n",
       "      <td>3/25/20</td>\n",
       "      <td>$245.52</td>\n",
       "      <td>75900510</td>\n",
       "      <td>$250.75</td>\n",
       "      <td>$258.25</td>\n",
       "      <td>$244.30</td>\n",
       "    </tr>\n",
       "  </tbody>\n",
       "</table>\n",
       "</div>"
      ],
      "text/plain": [
       "      Date  Close/Last    Volume      Open      High       Low\n",
       "0  3/31/20    $254.29   49250500  $255.60   $262.49      $252 \n",
       "1  3/30/20    $254.81   41994110  $250.74   $255.52   $249.40 \n",
       "2  3/27/20    $247.74   51054150  $252.75   $255.87   $247.05 \n",
       "3  3/26/20    $258.44   63140170  $246.52   $258.68   $246.36 \n",
       "4  3/25/20    $245.52   75900510  $250.75   $258.25   $244.30 "
      ]
     },
     "execution_count": 2,
     "metadata": {},
     "output_type": "execute_result"
    }
   ],
   "source": [
    "aapl = pd.read_csv('AAPL_HistoricalQuotes.csv')\n",
    "aapl.head()"
   ]
  },
  {
   "cell_type": "code",
   "execution_count": 3,
   "metadata": {},
   "outputs": [
    {
     "data": {
      "text/html": [
       "<div>\n",
       "<style scoped>\n",
       "    .dataframe tbody tr th:only-of-type {\n",
       "        vertical-align: middle;\n",
       "    }\n",
       "\n",
       "    .dataframe tbody tr th {\n",
       "        vertical-align: top;\n",
       "    }\n",
       "\n",
       "    .dataframe thead th {\n",
       "        text-align: right;\n",
       "    }\n",
       "</style>\n",
       "<table border=\"1\" class=\"dataframe\">\n",
       "  <thead>\n",
       "    <tr style=\"text-align: right;\">\n",
       "      <th></th>\n",
       "      <th>Date</th>\n",
       "      <th>Close/Last</th>\n",
       "      <th>Volume</th>\n",
       "      <th>Open</th>\n",
       "      <th>High</th>\n",
       "      <th>Low</th>\n",
       "    </tr>\n",
       "  </thead>\n",
       "  <tbody>\n",
       "    <tr>\n",
       "      <th>0</th>\n",
       "      <td>2020-03-31</td>\n",
       "      <td>254.29</td>\n",
       "      <td>49250500</td>\n",
       "      <td>$255.60</td>\n",
       "      <td>$262.49</td>\n",
       "      <td>$252</td>\n",
       "    </tr>\n",
       "    <tr>\n",
       "      <th>1</th>\n",
       "      <td>2020-03-30</td>\n",
       "      <td>254.81</td>\n",
       "      <td>41994110</td>\n",
       "      <td>$250.74</td>\n",
       "      <td>$255.52</td>\n",
       "      <td>$249.40</td>\n",
       "    </tr>\n",
       "    <tr>\n",
       "      <th>2</th>\n",
       "      <td>2020-03-27</td>\n",
       "      <td>247.74</td>\n",
       "      <td>51054150</td>\n",
       "      <td>$252.75</td>\n",
       "      <td>$255.87</td>\n",
       "      <td>$247.05</td>\n",
       "    </tr>\n",
       "    <tr>\n",
       "      <th>3</th>\n",
       "      <td>2020-03-26</td>\n",
       "      <td>258.44</td>\n",
       "      <td>63140170</td>\n",
       "      <td>$246.52</td>\n",
       "      <td>$258.68</td>\n",
       "      <td>$246.36</td>\n",
       "    </tr>\n",
       "    <tr>\n",
       "      <th>4</th>\n",
       "      <td>2020-03-25</td>\n",
       "      <td>245.52</td>\n",
       "      <td>75900510</td>\n",
       "      <td>$250.75</td>\n",
       "      <td>$258.25</td>\n",
       "      <td>$244.30</td>\n",
       "    </tr>\n",
       "  </tbody>\n",
       "</table>\n",
       "</div>"
      ],
      "text/plain": [
       "        Date  Close/Last    Volume      Open      High       Low\n",
       "0 2020-03-31      254.29  49250500  $255.60   $262.49      $252 \n",
       "1 2020-03-30      254.81  41994110  $250.74   $255.52   $249.40 \n",
       "2 2020-03-27      247.74  51054150  $252.75   $255.87   $247.05 \n",
       "3 2020-03-26      258.44  63140170  $246.52   $258.68   $246.36 \n",
       "4 2020-03-25      245.52  75900510  $250.75   $258.25   $244.30 "
      ]
     },
     "execution_count": 3,
     "metadata": {},
     "output_type": "execute_result"
    }
   ],
   "source": [
    "aapl.columns = list(map(lambda s: s.lstrip(), aapl.columns.values))\n",
    "aapl['Date'] = pd.to_datetime(aapl['Date'])\n",
    "aapl['Close/Last'] = aapl['Close/Last'].str.replace('$', '').astype(float)\n",
    "aapl.head()"
   ]
  },
  {
   "cell_type": "code",
   "execution_count": 4,
   "metadata": {
    "scrolled": false
   },
   "outputs": [
    {
     "data": {
      "text/html": [
       "<div>\n",
       "<style scoped>\n",
       "    .dataframe tbody tr th:only-of-type {\n",
       "        vertical-align: middle;\n",
       "    }\n",
       "\n",
       "    .dataframe tbody tr th {\n",
       "        vertical-align: top;\n",
       "    }\n",
       "\n",
       "    .dataframe thead th {\n",
       "        text-align: right;\n",
       "    }\n",
       "</style>\n",
       "<table border=\"1\" class=\"dataframe\">\n",
       "  <thead>\n",
       "    <tr style=\"text-align: right;\">\n",
       "      <th></th>\n",
       "      <th>date</th>\n",
       "      <th>p_diff</th>\n",
       "    </tr>\n",
       "  </thead>\n",
       "  <tbody>\n",
       "    <tr>\n",
       "      <th>0</th>\n",
       "      <td>2015-05</td>\n",
       "      <td>1.33</td>\n",
       "    </tr>\n",
       "    <tr>\n",
       "      <th>1</th>\n",
       "      <td>2015-06</td>\n",
       "      <td>-5.11</td>\n",
       "    </tr>\n",
       "    <tr>\n",
       "      <th>2</th>\n",
       "      <td>2015-07</td>\n",
       "      <td>-5.30</td>\n",
       "    </tr>\n",
       "    <tr>\n",
       "      <th>3</th>\n",
       "      <td>2015-08</td>\n",
       "      <td>-5.68</td>\n",
       "    </tr>\n",
       "    <tr>\n",
       "      <th>4</th>\n",
       "      <td>2015-09</td>\n",
       "      <td>2.58</td>\n",
       "    </tr>\n",
       "  </tbody>\n",
       "</table>\n",
       "</div>"
      ],
      "text/plain": [
       "      date  p_diff\n",
       "0  2015-05    1.33\n",
       "1  2015-06   -5.11\n",
       "2  2015-07   -5.30\n",
       "3  2015-08   -5.68\n",
       "4  2015-09    2.58"
      ]
     },
     "execution_count": 4,
     "metadata": {},
     "output_type": "execute_result"
    }
   ],
   "source": [
    "def subtract_open_from_close(x):\n",
    "    \n",
    "    month_close = x.loc[x.index.min(), 'Close/Last']\n",
    "    \n",
    "    month_open = x.loc[x.index.max(), 'Close/Last']\n",
    "    \n",
    "    return month_close - month_open\n",
    "\n",
    "aapl_diff = aapl.groupby(aapl['Date'].dt.to_period('M')).apply(subtract_open_from_close)\n",
    "\n",
    "aapl_df = pd.DataFrame({'date':aapl_diff.index, 'p_diff':aapl_diff.values})\n",
    "\n",
    "aapl_df['date'] = aapl_df['date'].dt.strftime('%Y-%m')\n",
    "\n",
    "aapl_df.head()"
   ]
  },
  {
   "cell_type": "code",
   "execution_count": null,
   "metadata": {},
   "outputs": [],
   "source": []
  },
  {
   "cell_type": "code",
   "execution_count": 5,
   "metadata": {},
   "outputs": [],
   "source": [
    "unemploy_rate = pd.read_excel('Unemployment_Rate.xlsx', skiprows=11)\n",
    "\n",
    "u_rate = pd.melt(unemploy_rate, id_vars=['Year'], var_name='Month', value_name = 'u_rate')\n",
    "\n",
    "u_rate['Month'] = u_rate.Month + \" \" + u_rate.Year.map(str)\n",
    "u_rate = u_rate.drop('Year', axis=1)\n",
    "u_rate['Month'] = pd.to_datetime(u_rate.Month, format='%b %Y', dayfirst=True)\n",
    "u_rate = u_rate.sort_values('Month')\n",
    "\n",
    "u_rate['date'] = pd.to_datetime(u_rate['Month']).dt.strftime('%Y-%m')\n",
    "u_rate = u_rate.drop('Month', axis=1)\n",
    "\n",
    "u_rate['u_diff'] = u_rate['u_rate'].diff()"
   ]
  },
  {
   "cell_type": "code",
   "execution_count": 6,
   "metadata": {},
   "outputs": [
    {
     "data": {
      "text/html": [
       "<div>\n",
       "<style scoped>\n",
       "    .dataframe tbody tr th:only-of-type {\n",
       "        vertical-align: middle;\n",
       "    }\n",
       "\n",
       "    .dataframe tbody tr th {\n",
       "        vertical-align: top;\n",
       "    }\n",
       "\n",
       "    .dataframe thead th {\n",
       "        text-align: right;\n",
       "    }\n",
       "</style>\n",
       "<table border=\"1\" class=\"dataframe\">\n",
       "  <thead>\n",
       "    <tr style=\"text-align: right;\">\n",
       "      <th></th>\n",
       "      <th>u_rate</th>\n",
       "      <th>date</th>\n",
       "      <th>u_diff</th>\n",
       "    </tr>\n",
       "  </thead>\n",
       "  <tbody>\n",
       "    <tr>\n",
       "      <th>0</th>\n",
       "      <td>9.8</td>\n",
       "      <td>2010-01</td>\n",
       "      <td>NaN</td>\n",
       "    </tr>\n",
       "    <tr>\n",
       "      <th>11</th>\n",
       "      <td>9.8</td>\n",
       "      <td>2010-02</td>\n",
       "      <td>0.0</td>\n",
       "    </tr>\n",
       "    <tr>\n",
       "      <th>22</th>\n",
       "      <td>9.9</td>\n",
       "      <td>2010-03</td>\n",
       "      <td>0.1</td>\n",
       "    </tr>\n",
       "    <tr>\n",
       "      <th>33</th>\n",
       "      <td>9.9</td>\n",
       "      <td>2010-04</td>\n",
       "      <td>0.0</td>\n",
       "    </tr>\n",
       "    <tr>\n",
       "      <th>44</th>\n",
       "      <td>9.6</td>\n",
       "      <td>2010-05</td>\n",
       "      <td>-0.3</td>\n",
       "    </tr>\n",
       "    <tr>\n",
       "      <th>...</th>\n",
       "      <td>...</td>\n",
       "      <td>...</td>\n",
       "      <td>...</td>\n",
       "    </tr>\n",
       "    <tr>\n",
       "      <th>87</th>\n",
       "      <td>NaN</td>\n",
       "      <td>2020-08</td>\n",
       "      <td>NaN</td>\n",
       "    </tr>\n",
       "    <tr>\n",
       "      <th>98</th>\n",
       "      <td>NaN</td>\n",
       "      <td>2020-09</td>\n",
       "      <td>NaN</td>\n",
       "    </tr>\n",
       "    <tr>\n",
       "      <th>109</th>\n",
       "      <td>NaN</td>\n",
       "      <td>2020-10</td>\n",
       "      <td>NaN</td>\n",
       "    </tr>\n",
       "    <tr>\n",
       "      <th>120</th>\n",
       "      <td>NaN</td>\n",
       "      <td>2020-11</td>\n",
       "      <td>NaN</td>\n",
       "    </tr>\n",
       "    <tr>\n",
       "      <th>131</th>\n",
       "      <td>NaN</td>\n",
       "      <td>2020-12</td>\n",
       "      <td>NaN</td>\n",
       "    </tr>\n",
       "  </tbody>\n",
       "</table>\n",
       "<p>132 rows × 3 columns</p>\n",
       "</div>"
      ],
      "text/plain": [
       "     u_rate     date  u_diff\n",
       "0       9.8  2010-01     NaN\n",
       "11      9.8  2010-02     0.0\n",
       "22      9.9  2010-03     0.1\n",
       "33      9.9  2010-04     0.0\n",
       "44      9.6  2010-05    -0.3\n",
       "..      ...      ...     ...\n",
       "87      NaN  2020-08     NaN\n",
       "98      NaN  2020-09     NaN\n",
       "109     NaN  2020-10     NaN\n",
       "120     NaN  2020-11     NaN\n",
       "131     NaN  2020-12     NaN\n",
       "\n",
       "[132 rows x 3 columns]"
      ]
     },
     "execution_count": 6,
     "metadata": {},
     "output_type": "execute_result"
    }
   ],
   "source": [
    "u_rate"
   ]
  },
  {
   "cell_type": "code",
   "execution_count": null,
   "metadata": {},
   "outputs": [],
   "source": [
    "# take in extra data to train? "
   ]
  },
  {
   "cell_type": "code",
   "execution_count": 13,
   "metadata": {},
   "outputs": [
    {
     "data": {
      "text/html": [
       "<div>\n",
       "<style scoped>\n",
       "    .dataframe tbody tr th:only-of-type {\n",
       "        vertical-align: middle;\n",
       "    }\n",
       "\n",
       "    .dataframe tbody tr th {\n",
       "        vertical-align: top;\n",
       "    }\n",
       "\n",
       "    .dataframe thead th {\n",
       "        text-align: right;\n",
       "    }\n",
       "</style>\n",
       "<table border=\"1\" class=\"dataframe\">\n",
       "  <thead>\n",
       "    <tr style=\"text-align: right;\">\n",
       "      <th></th>\n",
       "      <th>u_rate</th>\n",
       "      <th>date</th>\n",
       "      <th>u_diff</th>\n",
       "      <th>p_diff</th>\n",
       "    </tr>\n",
       "  </thead>\n",
       "  <tbody>\n",
       "    <tr>\n",
       "      <th>0</th>\n",
       "      <td>5.6</td>\n",
       "      <td>2015-05</td>\n",
       "      <td>0.2</td>\n",
       "      <td>1.33</td>\n",
       "    </tr>\n",
       "    <tr>\n",
       "      <th>1</th>\n",
       "      <td>5.3</td>\n",
       "      <td>2015-06</td>\n",
       "      <td>-0.3</td>\n",
       "      <td>-5.11</td>\n",
       "    </tr>\n",
       "    <tr>\n",
       "      <th>2</th>\n",
       "      <td>5.2</td>\n",
       "      <td>2015-07</td>\n",
       "      <td>-0.1</td>\n",
       "      <td>-5.30</td>\n",
       "    </tr>\n",
       "    <tr>\n",
       "      <th>3</th>\n",
       "      <td>5.1</td>\n",
       "      <td>2015-08</td>\n",
       "      <td>-0.1</td>\n",
       "      <td>-5.68</td>\n",
       "    </tr>\n",
       "    <tr>\n",
       "      <th>4</th>\n",
       "      <td>5.0</td>\n",
       "      <td>2015-09</td>\n",
       "      <td>-0.1</td>\n",
       "      <td>2.58</td>\n",
       "    </tr>\n",
       "  </tbody>\n",
       "</table>\n",
       "</div>"
      ],
      "text/plain": [
       "   u_rate     date  u_diff  p_diff\n",
       "0     5.6  2015-05     0.2    1.33\n",
       "1     5.3  2015-06    -0.3   -5.11\n",
       "2     5.2  2015-07    -0.1   -5.30\n",
       "3     5.1  2015-08    -0.1   -5.68\n",
       "4     5.0  2015-09    -0.1    2.58"
      ]
     },
     "execution_count": 13,
     "metadata": {},
     "output_type": "execute_result"
    }
   ],
   "source": [
    "merge_df = pd.merge(u_rate, aapl_df, how='inner', on='date')\n",
    "\n",
    "merge_df.head()"
   ]
  },
  {
   "cell_type": "code",
   "execution_count": 14,
   "metadata": {},
   "outputs": [
    {
     "data": {
      "text/plain": [
       "<matplotlib.axes._subplots.AxesSubplot at 0x116ef5dc0>"
      ]
     },
     "execution_count": 14,
     "metadata": {},
     "output_type": "execute_result"
    },
    {
     "data": {
      "image/png": "[encoded data removed]",
      "text/plain": [
       "<Figure size 432x288 with 1 Axes>"
      ]
     },
     "metadata": {
      "needs_background": "light"
     },
     "output_type": "display_data"
    }
   ],
   "source": [
    "merge_df.plot()"
   ]
  },
  {
   "cell_type": "code",
   "execution_count": 15,
   "metadata": {},
   "outputs": [],
   "source": [
    "merge_df['date'] = pd.to_datetime(merge_df['date'])"
   ]
  },
  {
   "cell_type": "code",
   "execution_count": 26,
   "metadata": {},
   "outputs": [],
   "source": [
    "def cal_prob_p_drop_u_up(year_lim):\n",
    "\n",
    "    df_period = merge_df.loc[(merge_df['date'].dt.year <= year_lim)]\n",
    "\n",
    "    len_period = len(df_period)\n",
    "\n",
    "    p_drop_df = df_period.loc[df_period['p_diff'] < 0]\n",
    "\n",
    "    p_up_df = df_period.loc[df_period['p_diff'] > 0]\n",
    "\n",
    "    prob_p_drop = len(p_drop_df) / len_period\n",
    "\n",
    "    prob_p_up = len(p_up_df) / len_period\n",
    "\n",
    "    prob_u_up_p_drop = len(p_drop_df.loc[p_drop_df['u_diff'] > 0]) / len(p_drop_df)\n",
    "\n",
    "    p_up_df = df_period.loc[df_period['p_diff'] > 0]\n",
    "\n",
    "    prob_u_up_p_up = len(p_up_df.loc[p_up_df['u_diff'] > 0]) / len(p_up_df)\n",
    "\n",
    "    prob_p_drop_u_up = (prob_p_drop*prob_u_up_p_drop) \\\n",
    "                       / ((prob_p_drop*prob_u_up_p_drop)+(prob_p_up*prob_u_up_p_up))\n",
    "    \n",
    "    print(prob_p_drop_u_up)\n",
    "    \n",
    "    return(prob_p_drop_u_up)"
   ]
  },
  {
   "cell_type": "code",
   "execution_count": 27,
   "metadata": {},
   "outputs": [
    {
     "name": "stdout",
     "output_type": "stream",
     "text": [
      "0.3333333333333333\n",
      "0.25\n",
      "0.45454545454545453\n",
      "0.35714285714285715\n",
      "0.375\n"
     ]
    },
    {
     "data": {
      "text/plain": [
       "[0.3333333333333333, 0.25, 0.45454545454545453, 0.35714285714285715, 0.375]"
      ]
     },
     "execution_count": 27,
     "metadata": {},
     "output_type": "execute_result"
    }
   ],
   "source": [
    "list(map(lambda s: cal_prob_p_drop_u_up(s), np.arange(2016, 2021)))"
   ]
  },
  {
   "cell_type": "code",
   "execution_count": null,
   "metadata": {},
   "outputs": [],
   "source": [
    "# need to check 2018 data..."
   ]
  },
  {
   "cell_type": "code",
   "execution_count": null,
   "metadata": {},
   "outputs": [],
   "source": []
  },
  {
   "cell_type": "code",
   "execution_count": null,
   "metadata": {},
   "outputs": [],
   "source": []
  },
  {
   "cell_type": "code",
   "execution_count": null,
   "metadata": {},
   "outputs": [],
   "source": []
  },
  {
   "cell_type": "code",
   "execution_count": null,
   "metadata": {},
   "outputs": [],
   "source": []
  }
 ],
 "metadata": {
  "kernelspec": {
   "display_name": "Python (moneyball)",
   "language": "python",
   "name": "moneyball"
  },
  "language_info": {
   "codemirror_mode": {
    "name": "ipython",
    "version": 3
   },
   "file_extension": ".py",
   "mimetype": "text/x-python",
   "name": "python",
   "nbconvert_exporter": "python",
   "pygments_lexer": "ipython3",
   "version": "3.8.1"
  },
  "toc": {
   "base_numbering": 1,
   "nav_menu": {},
   "number_sections": true,
   "sideBar": true,
   "skip_h1_title": false,
   "title_cell": "Table of Contents",
   "title_sidebar": "Contents",
   "toc_cell": false,
   "toc_position": {},
   "toc_section_display": true,
   "toc_window_display": false
  }
 },
 "nbformat": 4,
 "nbformat_minor": 4
}
